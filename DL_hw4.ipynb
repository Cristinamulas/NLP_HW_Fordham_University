{
  "nbformat": 4,
  "nbformat_minor": 0,
  "metadata": {
    "colab": {
      "name": "DL_hw4.ipynb",
      "provenance": [],
      "toc_visible": true,
      "authorship_tag": "ABX9TyPJI7sR+M69oz50rr/9UsCf",
      "include_colab_link": true
    },
    "kernelspec": {
      "name": "python3",
      "display_name": "Python 3"
    },
    "accelerator": "GPU"
  },
  "cells": [
    {
      "cell_type": "markdown",
      "metadata": {
        "id": "view-in-github",
        "colab_type": "text"
      },
      "source": [
        "<a href=\"https://colab.research.google.com/github/Cristinamulas/NLP_HW_Fordham_University/blob/master/DL_hw4.ipynb\" target=\"_parent\"><img src=\"https://colab.research.google.com/assets/colab-badge.svg\" alt=\"Open In Colab\"/></a>"
      ]
    },
    {
      "cell_type": "markdown",
      "metadata": {
        "id": "fC_osxhszVS2"
      },
      "source": [
        "# HW4\n",
        "- Prf. Luming Wang\n",
        "- Deep Learning\n",
        "- Cristina Mulas Lopez\n",
        "- 10/12/2020\n"
      ]
    },
    {
      "cell_type": "code",
      "metadata": {
        "id": "tD2mORU1VmpQ"
      },
      "source": [
        "# importing librearies\n",
        "import tensorflow as tf\n",
        "from tensorflow.keras import datasets\n",
        "from sklearn.model_selection import train_test_split\n",
        "from keras.preprocessing.image import ImageDataGenerator\n",
        "from keras.optimizers import SGD,Adam\n",
        "from keras.layers import Flatten,Dense,BatchNormalization,Activation,Dropout\n",
        "from keras.utils import to_categorical\n",
        "from keras import Sequential\n",
        "from keras.layers import Conv2D, MaxPooling2D\n",
        "\n"
      ],
      "execution_count": null,
      "outputs": []
    },
    {
      "cell_type": "code",
      "metadata": {
        "id": "4W66vCDJWJA-",
        "outputId": "f55c288b-d393-4787-f1d3-8b5b3e28f703",
        "colab": {
          "base_uri": "https://localhost:8080/",
          "height": 52
        }
      },
      "source": [
        "# load the dataset\n",
        "( train_images, train_labels) , (test_images, test_labels) = datasets.cifar10.load_data()"
      ],
      "execution_count": null,
      "outputs": [
        {
          "output_type": "stream",
          "text": [
            "Downloading data from https://www.cs.toronto.edu/~kriz/cifar-10-python.tar.gz\n",
            "170500096/170498071 [==============================] - 4s 0us/step\n"
          ],
          "name": "stdout"
        }
      ]
    },
    {
      "cell_type": "code",
      "metadata": {
        "id": "y_mU78Z4WX5U"
      },
      "source": [
        "def normalize_data (data):\n",
        "  \" it takes a dataset and return the data normalized\"\n",
        "  data_norm = data.astype('float32')\n",
        "  data_norm = data_norm / 255.0\n",
        "  return data_norm\n"
      ],
      "execution_count": null,
      "outputs": []
    },
    {
      "cell_type": "code",
      "metadata": {
        "id": "hvRUheCkukv0"
      },
      "source": [
        " train_images_normalize = normalize_data(train_images)"
      ],
      "execution_count": null,
      "outputs": []
    },
    {
      "cell_type": "code",
      "metadata": {
        "id": "qVRS46r0wG4G"
      },
      "source": [
        " test_images_normalize = normalize_data(test_images)"
      ],
      "execution_count": null,
      "outputs": []
    },
    {
      "cell_type": "code",
      "metadata": {
        "id": "t2ignGKn9GJd"
      },
      "source": [
        "# slipt data into train and validation sets\n",
        "x_train,x_val,y_train,y_val=train_test_split(train_images_normalize, train_labels,test_size=.3)\n"
      ],
      "execution_count": null,
      "outputs": []
    },
    {
      "cell_type": "code",
      "metadata": {
        "id": "Y4Xwl_1w9GPq"
      },
      "source": [
        "#One hot encode the labels\n",
        "y_train=to_categorical(y_train)\n",
        "y_val=to_categorical(y_val)\n",
        "y_test=to_categorical( test_labels)"
      ],
      "execution_count": null,
      "outputs": []
    },
    {
      "cell_type": "code",
      "metadata": {
        "id": "WdkpKSjcMbe8"
      },
      "source": [
        "# Image Generator\n",
        "train_generator = ImageDataGenerator(\n",
        "                                    rotation_range=2, \n",
        "                                    horizontal_flip=True,\n",
        "                                    zoom_range=.1 )\n",
        "\n",
        "val_generator = ImageDataGenerator(\n",
        "                                    rotation_range=2, \n",
        "                                    horizontal_flip=True,\n",
        "                                    zoom_range=.1)\n",
        "\n",
        "test_generator = ImageDataGenerator(\n",
        "                                    rotation_range=2, \n",
        "                                    horizontal_flip= True,\n",
        "                                    zoom_range=.1) "
      ],
      "execution_count": null,
      "outputs": []
    },
    {
      "cell_type": "code",
      "metadata": {
        "id": "9aRFjLgCMdj2"
      },
      "source": [
        "#Fit the augmentation method to the data\n",
        "train_generator.fit(x_train)\n",
        "val_generator.fit(x_val)\n",
        "test_generator.fit(test_images)"
      ],
      "execution_count": null,
      "outputs": []
    },
    {
      "cell_type": "markdown",
      "metadata": {
        "id": "Z93ZwiM64XKv"
      },
      "source": [
        "## Using one layer of VGG"
      ]
    },
    {
      "cell_type": "code",
      "metadata": {
        "id": "Ie5XaWhXkbe_"
      },
      "source": [
        "#Build the model\n",
        "model = Sequential()\n",
        "model.add(Conv2D(32,(3,3), activation = 'relu', kernel_initializer = 'he_uniform', padding = 'same', input_shape = (32,32,3)))\n",
        "model.add(Conv2D(32,(3,3), activation = 'relu', kernel_initializer = 'he_uniform', padding = 'same'))\n",
        "model.add(MaxPooling2D((2,2)))\n",
        "\n",
        "model.add(Flatten())\n",
        "model.add(Dense(128, activation = 'relu', kernel_initializer = 'he_uniform'))\n",
        "model.add(Dense(10, activation = 'softmax'))"
      ],
      "execution_count": null,
      "outputs": []
    },
    {
      "cell_type": "code",
      "metadata": {
        "id": "DnvPJR1TWjSL"
      },
      "source": [
        "#Compile the model\n",
        "opt = SGD(lr = 0.001, momentum = 0.9)\n",
        "model.compile(optimizer = opt, loss = 'categorical_crossentropy', metrics = ['accuracy'])"
      ],
      "execution_count": null,
      "outputs": []
    },
    {
      "cell_type": "code",
      "metadata": {
        "id": "TjFtlsNRCZ7o",
        "outputId": "7f6498c0-88d7-4983-8e06-d1aa588e9459",
        "colab": {
          "base_uri": "https://localhost:8080/",
          "height": 710
        }
      },
      "source": [
        "# Train the model\n",
        "history = model.fit(x_train,y_train, epochs=20, \n",
        "                    validation_data=((x_val,y_val)))\n"
      ],
      "execution_count": null,
      "outputs": [
        {
          "output_type": "stream",
          "text": [
            "Epoch 1/20\n",
            "1094/1094 [==============================] - 5s 4ms/step - loss: 1.7282 - accuracy: 0.3859 - val_loss: 1.5127 - val_accuracy: 0.4601\n",
            "Epoch 2/20\n",
            "1094/1094 [==============================] - 5s 4ms/step - loss: 1.3948 - accuracy: 0.5025 - val_loss: 1.3440 - val_accuracy: 0.5210\n",
            "Epoch 3/20\n",
            "1094/1094 [==============================] - 5s 4ms/step - loss: 1.2215 - accuracy: 0.5677 - val_loss: 1.2604 - val_accuracy: 0.5581\n",
            "Epoch 4/20\n",
            "1094/1094 [==============================] - 4s 4ms/step - loss: 1.0989 - accuracy: 0.6155 - val_loss: 1.1502 - val_accuracy: 0.5933\n",
            "Epoch 5/20\n",
            "1094/1094 [==============================] - 5s 4ms/step - loss: 0.9935 - accuracy: 0.6547 - val_loss: 1.0741 - val_accuracy: 0.6206\n",
            "Epoch 6/20\n",
            "1094/1094 [==============================] - 5s 4ms/step - loss: 0.9036 - accuracy: 0.6865 - val_loss: 1.1067 - val_accuracy: 0.6129\n",
            "Epoch 7/20\n",
            "1094/1094 [==============================] - 4s 4ms/step - loss: 0.8254 - accuracy: 0.7146 - val_loss: 1.0286 - val_accuracy: 0.6409\n",
            "Epoch 8/20\n",
            "1094/1094 [==============================] - 4s 4ms/step - loss: 0.7503 - accuracy: 0.7418 - val_loss: 1.0265 - val_accuracy: 0.6464\n",
            "Epoch 9/20\n",
            "1094/1094 [==============================] - 4s 4ms/step - loss: 0.6808 - accuracy: 0.7647 - val_loss: 1.0288 - val_accuracy: 0.6525\n",
            "Epoch 10/20\n",
            "1094/1094 [==============================] - 5s 4ms/step - loss: 0.6112 - accuracy: 0.7925 - val_loss: 1.0359 - val_accuracy: 0.6543\n",
            "Epoch 11/20\n",
            "1094/1094 [==============================] - 5s 4ms/step - loss: 0.5412 - accuracy: 0.8175 - val_loss: 1.0384 - val_accuracy: 0.6601\n",
            "Epoch 12/20\n",
            "1094/1094 [==============================] - 4s 4ms/step - loss: 0.4679 - accuracy: 0.8444 - val_loss: 1.0765 - val_accuracy: 0.6565\n",
            "Epoch 13/20\n",
            "1094/1094 [==============================] - 4s 4ms/step - loss: 0.3975 - accuracy: 0.8689 - val_loss: 1.1803 - val_accuracy: 0.6461\n",
            "Epoch 14/20\n",
            "1094/1094 [==============================] - 5s 4ms/step - loss: 0.3307 - accuracy: 0.8951 - val_loss: 1.2224 - val_accuracy: 0.6492\n",
            "Epoch 15/20\n",
            "1094/1094 [==============================] - 5s 4ms/step - loss: 0.2656 - accuracy: 0.9157 - val_loss: 1.2849 - val_accuracy: 0.6464\n",
            "Epoch 16/20\n",
            "1094/1094 [==============================] - 5s 4ms/step - loss: 0.2119 - accuracy: 0.9359 - val_loss: 1.3662 - val_accuracy: 0.6471\n",
            "Epoch 17/20\n",
            "1094/1094 [==============================] - 5s 4ms/step - loss: 0.1567 - accuracy: 0.9565 - val_loss: 1.4553 - val_accuracy: 0.6403\n",
            "Epoch 18/20\n",
            "1094/1094 [==============================] - 4s 4ms/step - loss: 0.1193 - accuracy: 0.9695 - val_loss: 1.5471 - val_accuracy: 0.6449\n",
            "Epoch 19/20\n",
            "1094/1094 [==============================] - 5s 4ms/step - loss: 0.0828 - accuracy: 0.9822 - val_loss: 1.6141 - val_accuracy: 0.6500\n",
            "Epoch 20/20\n",
            "1094/1094 [==============================] - 5s 4ms/step - loss: 0.0576 - accuracy: 0.9905 - val_loss: 1.7219 - val_accuracy: 0.6486\n"
          ],
          "name": "stdout"
        }
      ]
    },
    {
      "cell_type": "code",
      "metadata": {
        "id": "8mS0LzC47TdJ"
      },
      "source": [
        "def result_validation (hist, number):\n",
        "  \"it takes the history of a model and return an str witht the validation_set result\"\n",
        "  accu_vali = hist.history['val_accuracy']\n",
        "  val_accu = round(accu_vali[-1],2 ) * 100\n",
        "  print(f'Accuracy of the validation_set is {val_accu} using {number} layer of VGG')"
      ],
      "execution_count": null,
      "outputs": []
    },
    {
      "cell_type": "code",
      "metadata": {
        "id": "PlgU7G4TJ2fo",
        "outputId": "36590f25-a458-45b8-a58a-36eb4042c8ee",
        "colab": {
          "base_uri": "https://localhost:8080/",
          "height": 34
        }
      },
      "source": [
        "result_validation(history,'one')"
      ],
      "execution_count": null,
      "outputs": [
        {
          "output_type": "stream",
          "text": [
            "Accuracy of the validation_set is 65.0 using one layer of VGG\n"
          ],
          "name": "stdout"
        }
      ]
    },
    {
      "cell_type": "markdown",
      "metadata": {
        "id": "oqfUAjtj-P5F"
      },
      "source": [
        "## Using two layers of VGG\n"
      ]
    },
    {
      "cell_type": "code",
      "metadata": {
        "id": "zYvn7iWoCaLI"
      },
      "source": [
        "#Build the model\n",
        "\n",
        "model_2blocks = Sequential()\n",
        "model_2blocks.add(Conv2D(32,(3,3), activation = 'relu', kernel_initializer = 'he_uniform', padding = 'same', input_shape = (32,32,3)))\n",
        "model_2blocks.add(Conv2D(32,(3,3), activation = 'relu', kernel_initializer = 'he_uniform', padding = 'same'))\n",
        "model_2blocks.add(MaxPooling2D((2,2)))\n",
        "model_2blocks.add(Conv2D(64,(3,3), activation = 'relu', kernel_initializer = 'he_uniform', padding = 'same'))\n",
        "model_2blocks.add(Conv2D(64,(3,3), activation = 'relu', kernel_initializer = 'he_uniform', padding = 'same'))\n",
        "model_2blocks.add(MaxPooling2D((2,2)))\n",
        "model_2blocks.add(Flatten())\n",
        "\n",
        "model_2blocks.add(Dense(128, activation = 'relu', kernel_initializer = 'he_uniform'))\n",
        "model_2blocks.add(Dense(10, activation = 'softmax'))"
      ],
      "execution_count": null,
      "outputs": []
    },
    {
      "cell_type": "code",
      "metadata": {
        "id": "x5cxTw55CaOK"
      },
      "source": [
        "#Compile the model\n",
        "model_2blocks.compile(optimizer = opt, loss = 'categorical_crossentropy', metrics = ['accuracy'])"
      ],
      "execution_count": null,
      "outputs": []
    },
    {
      "cell_type": "code",
      "metadata": {
        "id": "LiMYpo343PdC",
        "outputId": "5ddb4e86-a7a8-4faa-a16a-9540bf2b405c",
        "colab": {
          "base_uri": "https://localhost:8080/",
          "height": 710
        }
      },
      "source": [
        "# Train the model\n",
        "history_2 = model_2blocks.fit(x_train,y_train, epochs=20\n",
        "                              , validation_data=((x_val,y_val)))"
      ],
      "execution_count": null,
      "outputs": [
        {
          "output_type": "stream",
          "text": [
            "Epoch 1/20\n",
            "1094/1094 [==============================] - 6s 5ms/step - loss: 1.7086 - accuracy: 0.3829 - val_loss: 1.4444 - val_accuracy: 0.4815\n",
            "Epoch 2/20\n",
            "1094/1094 [==============================] - 5s 5ms/step - loss: 1.3413 - accuracy: 0.5206 - val_loss: 1.3059 - val_accuracy: 0.5353\n",
            "Epoch 3/20\n",
            "1094/1094 [==============================] - 5s 5ms/step - loss: 1.1479 - accuracy: 0.5939 - val_loss: 1.1485 - val_accuracy: 0.5987\n",
            "Epoch 4/20\n",
            "1094/1094 [==============================] - 5s 5ms/step - loss: 1.0167 - accuracy: 0.6443 - val_loss: 1.0118 - val_accuracy: 0.6447\n",
            "Epoch 5/20\n",
            "1094/1094 [==============================] - 5s 5ms/step - loss: 0.9168 - accuracy: 0.6807 - val_loss: 0.9793 - val_accuracy: 0.6631\n",
            "Epoch 6/20\n",
            "1094/1094 [==============================] - 5s 5ms/step - loss: 0.8343 - accuracy: 0.7102 - val_loss: 0.9535 - val_accuracy: 0.6723\n",
            "Epoch 7/20\n",
            "1094/1094 [==============================] - 5s 5ms/step - loss: 0.7571 - accuracy: 0.7382 - val_loss: 0.8974 - val_accuracy: 0.6904\n",
            "Epoch 8/20\n",
            "1094/1094 [==============================] - 5s 5ms/step - loss: 0.6837 - accuracy: 0.7645 - val_loss: 0.9193 - val_accuracy: 0.6888\n",
            "Epoch 9/20\n",
            "1094/1094 [==============================] - 5s 5ms/step - loss: 0.6169 - accuracy: 0.7853 - val_loss: 0.9206 - val_accuracy: 0.6975\n",
            "Epoch 10/20\n",
            "1094/1094 [==============================] - 5s 5ms/step - loss: 0.5531 - accuracy: 0.8078 - val_loss: 0.9057 - val_accuracy: 0.7046\n",
            "Epoch 11/20\n",
            "1094/1094 [==============================] - 5s 5ms/step - loss: 0.4888 - accuracy: 0.8308 - val_loss: 0.9043 - val_accuracy: 0.7081\n",
            "Epoch 12/20\n",
            "1094/1094 [==============================] - 5s 5ms/step - loss: 0.4199 - accuracy: 0.8565 - val_loss: 0.9911 - val_accuracy: 0.6967\n",
            "Epoch 13/20\n",
            "1094/1094 [==============================] - 5s 5ms/step - loss: 0.3610 - accuracy: 0.8765 - val_loss: 1.0358 - val_accuracy: 0.6961\n",
            "Epoch 14/20\n",
            "1094/1094 [==============================] - 5s 5ms/step - loss: 0.3031 - accuracy: 0.8967 - val_loss: 1.0710 - val_accuracy: 0.6996\n",
            "Epoch 15/20\n",
            "1094/1094 [==============================] - 5s 5ms/step - loss: 0.2424 - accuracy: 0.9169 - val_loss: 1.1651 - val_accuracy: 0.7049\n",
            "Epoch 16/20\n",
            "1094/1094 [==============================] - 5s 5ms/step - loss: 0.1880 - accuracy: 0.9366 - val_loss: 1.2253 - val_accuracy: 0.7095\n",
            "Epoch 17/20\n",
            "1094/1094 [==============================] - 5s 5ms/step - loss: 0.1565 - accuracy: 0.9474 - val_loss: 1.2678 - val_accuracy: 0.6961\n",
            "Epoch 18/20\n",
            "1094/1094 [==============================] - 5s 5ms/step - loss: 0.1165 - accuracy: 0.9627 - val_loss: 1.4626 - val_accuracy: 0.6951\n",
            "Epoch 19/20\n",
            "1094/1094 [==============================] - 5s 5ms/step - loss: 0.0919 - accuracy: 0.9704 - val_loss: 1.5322 - val_accuracy: 0.6971\n",
            "Epoch 20/20\n",
            "1094/1094 [==============================] - 5s 5ms/step - loss: 0.0651 - accuracy: 0.9807 - val_loss: 1.6603 - val_accuracy: 0.6966\n"
          ],
          "name": "stdout"
        }
      ]
    },
    {
      "cell_type": "code",
      "metadata": {
        "id": "CatcqhOg4zw0",
        "outputId": "f71ef4b8-bab0-4cee-9bac-05a33b77dea4",
        "colab": {
          "base_uri": "https://localhost:8080/",
          "height": 34
        }
      },
      "source": [
        "result_validation(history_2, 'two')"
      ],
      "execution_count": null,
      "outputs": [
        {
          "output_type": "stream",
          "text": [
            "Accuracy of the validation_set is 70.0 using two layer of VGG\n"
          ],
          "name": "stdout"
        }
      ]
    },
    {
      "cell_type": "markdown",
      "metadata": {
        "id": "WfbjgOMq-W90"
      },
      "source": [
        "## Using two layers of VGG and a dropout\n"
      ]
    },
    {
      "cell_type": "code",
      "metadata": {
        "id": "yRLoDs8n5qf7"
      },
      "source": [
        "#Build the model\n",
        "\n",
        "model_2blocks_activation = Sequential()\n",
        "model_2blocks_activation.add(Conv2D(32,(3,3), activation = 'relu', kernel_initializer = 'he_uniform', padding = 'same', input_shape = (32,32,3)))\n",
        "model_2blocks_activation.add(Conv2D(32,(3,3), activation = 'relu', kernel_initializer = 'he_uniform', padding = 'same'))\n",
        "model_2blocks_activation.add(MaxPooling2D((2,2)))\n",
        "\n",
        "model_2blocks_activation.add(Dropout(.2))\n",
        "\n",
        "model_2blocks_activation.add(Conv2D(64,(3,3), activation = 'relu', kernel_initializer = 'he_uniform', padding = 'same'))\n",
        "model_2blocks_activation.add(Conv2D(64,(3,3), activation = 'relu', kernel_initializer = 'he_uniform', padding = 'same'))\n",
        "model_2blocks_activation.add(MaxPooling2D((2,2)))\n",
        "model_2blocks_activation.add(Flatten())\n",
        "\n",
        "model_2blocks_activation.add(Dense(128, activation = 'relu', kernel_initializer = 'he_uniform'))\n",
        "model_2blocks_activation.add(Dense(10, activation = 'softmax'))"
      ],
      "execution_count": null,
      "outputs": []
    },
    {
      "cell_type": "code",
      "metadata": {
        "id": "Jvrt-W7_7TmZ"
      },
      "source": [
        "#Compile the model\n",
        "model_2blocks_activation.compile(optimizer = opt, loss = 'categorical_crossentropy', metrics = ['accuracy'])"
      ],
      "execution_count": null,
      "outputs": []
    },
    {
      "cell_type": "code",
      "metadata": {
        "id": "Xi8Cpal07Tz2",
        "outputId": "5c49811e-2519-4c40-b4c7-16ed7160196d",
        "colab": {
          "base_uri": "https://localhost:8080/",
          "height": 884
        }
      },
      "source": [
        "# Train the model\n",
        "history_3 = model_2blocks_activation.fit(x_train,y_train, epochs=25, validation_data=((x_val,y_val)))"
      ],
      "execution_count": null,
      "outputs": [
        {
          "output_type": "stream",
          "text": [
            "Epoch 1/25\n",
            "1094/1094 [==============================] - 6s 6ms/step - loss: 1.7499 - accuracy: 0.3627 - val_loss: 1.4752 - val_accuracy: 0.4765\n",
            "Epoch 2/25\n",
            "1094/1094 [==============================] - 6s 5ms/step - loss: 1.3965 - accuracy: 0.4961 - val_loss: 1.3054 - val_accuracy: 0.5288\n",
            "Epoch 3/25\n",
            "1094/1094 [==============================] - 5s 5ms/step - loss: 1.2297 - accuracy: 0.5583 - val_loss: 1.1701 - val_accuracy: 0.5831\n",
            "Epoch 4/25\n",
            "1094/1094 [==============================] - 5s 5ms/step - loss: 1.1078 - accuracy: 0.6064 - val_loss: 1.0773 - val_accuracy: 0.6193\n",
            "Epoch 5/25\n",
            "1094/1094 [==============================] - 5s 5ms/step - loss: 1.0164 - accuracy: 0.6422 - val_loss: 0.9920 - val_accuracy: 0.6489\n",
            "Epoch 6/25\n",
            "1094/1094 [==============================] - 5s 5ms/step - loss: 0.9379 - accuracy: 0.6715 - val_loss: 0.9600 - val_accuracy: 0.6635\n",
            "Epoch 7/25\n",
            "1094/1094 [==============================] - 5s 5ms/step - loss: 0.8693 - accuracy: 0.6940 - val_loss: 0.9556 - val_accuracy: 0.6635\n",
            "Epoch 8/25\n",
            "1094/1094 [==============================] - 5s 5ms/step - loss: 0.8132 - accuracy: 0.7150 - val_loss: 0.8993 - val_accuracy: 0.6855\n",
            "Epoch 9/25\n",
            "1094/1094 [==============================] - 5s 5ms/step - loss: 0.7549 - accuracy: 0.7359 - val_loss: 0.8738 - val_accuracy: 0.6947\n",
            "Epoch 10/25\n",
            "1094/1094 [==============================] - 5s 5ms/step - loss: 0.7001 - accuracy: 0.7563 - val_loss: 0.8515 - val_accuracy: 0.7059\n",
            "Epoch 11/25\n",
            "1094/1094 [==============================] - 5s 5ms/step - loss: 0.6451 - accuracy: 0.7769 - val_loss: 0.8477 - val_accuracy: 0.7126\n",
            "Epoch 12/25\n",
            "1094/1094 [==============================] - 5s 5ms/step - loss: 0.6009 - accuracy: 0.7905 - val_loss: 0.8460 - val_accuracy: 0.7130\n",
            "Epoch 13/25\n",
            "1094/1094 [==============================] - 5s 5ms/step - loss: 0.5521 - accuracy: 0.8078 - val_loss: 0.8875 - val_accuracy: 0.7098\n",
            "Epoch 14/25\n",
            "1094/1094 [==============================] - 5s 5ms/step - loss: 0.4982 - accuracy: 0.8258 - val_loss: 0.8750 - val_accuracy: 0.7143\n",
            "Epoch 15/25\n",
            "1094/1094 [==============================] - 5s 5ms/step - loss: 0.4566 - accuracy: 0.8398 - val_loss: 0.8788 - val_accuracy: 0.7156\n",
            "Epoch 16/25\n",
            "1094/1094 [==============================] - 6s 5ms/step - loss: 0.4119 - accuracy: 0.8545 - val_loss: 0.9374 - val_accuracy: 0.7122\n",
            "Epoch 17/25\n",
            "1094/1094 [==============================] - 5s 5ms/step - loss: 0.3684 - accuracy: 0.8703 - val_loss: 0.9216 - val_accuracy: 0.7225\n",
            "Epoch 18/25\n",
            "1094/1094 [==============================] - 5s 5ms/step - loss: 0.3275 - accuracy: 0.8849 - val_loss: 0.9348 - val_accuracy: 0.7279\n",
            "Epoch 19/25\n",
            "1094/1094 [==============================] - 5s 5ms/step - loss: 0.2884 - accuracy: 0.8995 - val_loss: 1.1220 - val_accuracy: 0.7015\n",
            "Epoch 20/25\n",
            "1094/1094 [==============================] - 5s 5ms/step - loss: 0.2607 - accuracy: 0.9097 - val_loss: 1.0876 - val_accuracy: 0.7115\n",
            "Epoch 21/25\n",
            "1094/1094 [==============================] - 5s 5ms/step - loss: 0.2302 - accuracy: 0.9188 - val_loss: 1.0555 - val_accuracy: 0.7256\n",
            "Epoch 22/25\n",
            "1094/1094 [==============================] - 5s 5ms/step - loss: 0.2009 - accuracy: 0.9298 - val_loss: 1.1401 - val_accuracy: 0.7176\n",
            "Epoch 23/25\n",
            "1094/1094 [==============================] - 5s 5ms/step - loss: 0.1754 - accuracy: 0.9380 - val_loss: 1.2326 - val_accuracy: 0.7163\n",
            "Epoch 24/25\n",
            "1094/1094 [==============================] - 5s 5ms/step - loss: 0.1593 - accuracy: 0.9430 - val_loss: 1.2282 - val_accuracy: 0.7213\n",
            "Epoch 25/25\n",
            "1094/1094 [==============================] - 5s 5ms/step - loss: 0.1355 - accuracy: 0.9524 - val_loss: 1.3149 - val_accuracy: 0.7149\n"
          ],
          "name": "stdout"
        }
      ]
    },
    {
      "cell_type": "code",
      "metadata": {
        "id": "R3NwAej99Gl0",
        "outputId": "6a55f974-394b-4517-e0c2-4837de7d3b98",
        "colab": {
          "base_uri": "https://localhost:8080/",
          "height": 34
        }
      },
      "source": [
        "result_validation(history_3, 'two') "
      ],
      "execution_count": null,
      "outputs": [
        {
          "output_type": "stream",
          "text": [
            "Accuracy of the validation_set is 71.0 using two layer of VGG\n"
          ],
          "name": "stdout"
        }
      ]
    },
    {
      "cell_type": "code",
      "metadata": {
        "id": "6oVBy1ozuhOo"
      },
      "source": [
        ""
      ],
      "execution_count": null,
      "outputs": []
    }
  ]
}